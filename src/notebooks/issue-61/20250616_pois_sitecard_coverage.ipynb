{
 "cells": [
  {
   "cell_type": "code",
   "execution_count": 1,
   "metadata": {},
   "outputs": [
    {
     "data": {
      "text/plain": [
       "True"
      ]
     },
     "execution_count": 1,
     "metadata": {},
     "output_type": "execute_result"
    }
   ],
   "source": [
    "\"\"\"Sets the notebook to the project root\"\"\"\n",
    "\n",
    "import sys, os\n",
    "PROJECT_NAME = \"analysis\"\n",
    "current_directory = os.getcwd().split(\"/\")\n",
    "while current_directory[-1] != PROJECT_NAME:\n",
    "    current_directory = current_directory[:-1]\n",
    "if len(current_directory) > 1:\n",
    "    project_root = \"/\".join(current_directory)\n",
    "    os.chdir(project_root)\n",
    "else:\n",
    "    raise Exception(\"ERROR: Project root not found\")\n",
    "\n",
    "from dotenv import load_dotenv\n",
    "load_dotenv(dotenv_path=\"./env/env.env\")"
   ]
  },
  {
   "cell_type": "code",
   "execution_count": 6,
   "metadata": {},
   "outputs": [
    {
     "name": "stdout",
     "output_type": "stream",
     "text": [
      "\n",
      "Database connections initialized successfully!\n",
      "Staging DB: MongoClient(host=['landmarksid-staging-shard-00-02-me4vi.mongodb.net:27017', 'landmarksid-staging-shard-00-01-me4vi.mongodb.net:27017', 'landmarksid-staging-shard-00-00-me4vi.mongodb.net:27017'], document_class=dict, tz_aware=False, connect=True, authsource='admin', replicaset='landmarksid-staging-shard-0', tls=True)\n",
      "Production DB: MongoClient(host=['production-shard-00-01.gw4dh.mongodb.net:27017', 'production-shard-00-02.gw4dh.mongodb.net:27017', 'production-shard-00-00.gw4dh.mongodb.net:27017'], document_class=dict, tz_aware=False, connect=True, authsource='admin', replicaset='atlas-4v0y1q-shard-0', tls=True)\n"
     ]
    }
   ],
   "source": [
    "\"\"\"Initializes the database connection\"\"\"\n",
    "\n",
    "import os\n",
    "from bson import ObjectId\n",
    "from src.classes.mongo_client import initialize\n",
    "\n",
    "# Get MongoDB connection strings from environment variables\n",
    "connection_strings = {\n",
    "    \"stg\": os.getenv(\"MONGO_STAGE_URI\"),\n",
    "    \"prd\": os.getenv(\"MONGO_PROD_URI\")\n",
    "}\n",
    "\n",
    "# Initialize database connections\n",
    "dbs = initialize(connection_strings)\n"
   ]
  },
  {
   "cell_type": "code",
   "execution_count": 7,
   "metadata": {},
   "outputs": [
    {
     "name": "stdout",
     "output_type": "stream",
     "text": [
      "111\n"
     ]
    }
   ],
   "source": [
    "\n",
    "\n",
    "sitecards = list(dbs[\"stg\"][\"poinetwork\"][\"sitecards\"].find({\"metadata.media_owner\":\"ONETProposal\"}))\n",
    "\n",
    "pois = []\n",
    "for sitecard in sitecards:\n",
    "    if len(sitecard[\"poi_candidates\"]) > 0:\n",
    "        pois.append(dbs[\"stg\"][\"poinetwork\"][\"pois\"].find_one(\n",
    "            {\"_id\": ObjectId(sitecard[\"poi_candidates\"][0][\"poiId\"])}\n",
    "        ))\n",
    "\n",
    "print(len(pois))\n"
   ]
  },
  {
   "cell_type": "code",
   "execution_count": null,
   "metadata": {},
   "outputs": [
    {
     "ename": "ModuleNotFoundError",
     "evalue": "No module named 'pylandmarks'",
     "output_type": "error",
     "traceback": [
      "\u001b[31m---------------------------------------------------------------------------\u001b[39m",
      "\u001b[31mModuleNotFoundError\u001b[39m                       Traceback (most recent call last)",
      "\u001b[36mCell\u001b[39m\u001b[36m \u001b[39m\u001b[32mIn[8]\u001b[39m\u001b[32m, line 1\u001b[39m\n\u001b[32m----> \u001b[39m\u001b[32m1\u001b[39m \u001b[38;5;28;01mfrom\u001b[39;00m\u001b[38;5;250m \u001b[39m\u001b[34;01mpylandmarks\u001b[39;00m\u001b[34;01m.\u001b[39;00m\u001b[34;01mmongo\u001b[39;00m\u001b[38;5;250m \u001b[39m\u001b[38;5;28;01mimport\u001b[39;00m database, collections \u001b[38;5;28;01mas\u001b[39;00m mongo_collections, documents\n\u001b[32m      3\u001b[39m clientNames = [\n\u001b[32m      4\u001b[39m     \u001b[33m\"\u001b[39m\u001b[33moOh Media\u001b[39m\u001b[33m\"\u001b[39m, \n\u001b[32m      5\u001b[39m     \u001b[33m\"\u001b[39m\u001b[33mMediaWorks\u001b[39m\u001b[33m\"\u001b[39m, \n\u001b[32m   (...)\u001b[39m\u001b[32m     11\u001b[39m     \u001b[33m\"\u001b[39m\u001b[33mMedia5\u001b[39m\u001b[33m\"\u001b[39m \u001b[38;5;66;03m# ONET\u001b[39;00m\n\u001b[32m     12\u001b[39m ]\n\u001b[32m     14\u001b[39m analysis = {}\n",
      "\u001b[31mModuleNotFoundError\u001b[39m: No module named 'pylandmarks'"
     ]
    }
   ],
   "source": [
    "\n",
    "from pylandmarks.mongo import database, collections as mongo_collections, documents\n",
    "\n",
    "clientNames = [\n",
    "    \"oOh Media\", \n",
    "    \"MediaWorks\", \n",
    "    \"JCDecaux\", \n",
    "    \"LUMO\", \n",
    "    \"VAST Billboards\", \n",
    "    \"Go Media - sales\", \n",
    "    \"Ad-Vantage Media\", # ONET\n",
    "    \"Media5\" # ONET\n",
    "]\n",
    "\n",
    "from src.classes.organizations import Organizations\n",
    "\n",
    "org_data = Organizations()\n",
    "media_owners = org_data.supportedOrganizations[\"MediaOwners\"]\n",
    "\n",
    "\n",
    "analysis = {}\n",
    "for client in clientNames:\n",
    "    analysis[client] = {}\n",
    "    for o in [o for o in mongo_collections.organizations.supportedOrganizations[\"MediaOwners\"] if o[\"archived\"] == False]:\n",
    "        if o[\"clientName\"] == client:\n",
    "            analysis[client][o[\"organizationName\"]] = {\n",
    "                \"matchedPois\": [],\n",
    "                \"totalPois\": 0\n",
    "            }\n",
    "\n",
    "\n",
    "for sitecard in list(dbs[\"stg\"][\"poinetwork\"][\"sitecards\"].find()):\n",
    "    if len(sitecard[\"poi_candidates\"]) > 0:\n",
    "        poi = dbs[\"stg\"][\"poinetwork\"][\"pois\"].find_one(\n",
    "            {\"_id\": ObjectId(sitecard[\"poi_candidates\"][0][\"poiId\"])}\n",
    "        )\n",
    "\n",
    "        for client in analysis:\n",
    "            if poi[\"organizationName\"] in analysis[client]:\n",
    "                analysis[client][poi[\"organizationName\"]][\"matchedPois\"].append(poi[\"_id\"])\n",
    "\n",
    "for client in analysis:\n",
    "    for orgName in analysis[client]:\n",
    "        analysis[client][orgName][\"totalPois\"] = len(list(dbs[\"stg\"][\"poinetwork\"][\"pois\"].find({\"organizationName\": orgName})))\n",
    "    \n",
    "for client in analysis:\n",
    "    for orgName in analysis[client]:\n",
    "        print(f\"{orgName} Total Pois: {analysis[client][orgName][\"totalPois\"]}, Matched Pois: {len(analysis[client][orgName][\"matchedPois\"])}, {round(len(analysis[client][orgName][\"matchedPois\"]) / analysis[client][orgName][\"totalPois\"] * 100, 2)}%\")"
   ]
  }
 ],
 "metadata": {
  "kernelspec": {
   "display_name": "venv",
   "language": "python",
   "name": "python3"
  },
  "language_info": {
   "codemirror_mode": {
    "name": "ipython",
    "version": 3
   },
   "file_extension": ".py",
   "mimetype": "text/x-python",
   "name": "python",
   "nbconvert_exporter": "python",
   "pygments_lexer": "ipython3",
   "version": "3.13.3"
  }
 },
 "nbformat": 4,
 "nbformat_minor": 2
}
