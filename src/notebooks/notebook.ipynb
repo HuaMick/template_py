{
 "cells": [
  {
   "cell_type": "code",
   "execution_count": 1,
   "metadata": {},
   "outputs": [
    {
     "data": {
      "text/plain": [
       "True"
      ]
     },
     "execution_count": 1,
     "metadata": {},
     "output_type": "execute_result"
    }
   ],
   "source": [
    "\"\"\"Sets the notebook to the project root\"\"\"\n",
    "\n",
    "import sys, os\n",
    "PROJECT_NAME = \"analysis\"\n",
    "current_directory = os.getcwd().split(\"/\")\n",
    "while current_directory[-1] != PROJECT_NAME:\n",
    "    current_directory = current_directory[:-1]\n",
    "if len(current_directory) > 1:\n",
    "    project_root = \"/\".join(current_directory)\n",
    "    os.chdir(project_root)\n",
    "else:\n",
    "    raise Exception(\"ERROR: Project root not found\")\n",
    "\n",
    "from dotenv import load_dotenv\n",
    "load_dotenv(dotenv_path=\"./env/env.env\")"
   ]
  },
  {
   "cell_type": "code",
   "execution_count": 1,
   "metadata": {},
   "outputs": [
    {
     "ename": "ModuleNotFoundError",
     "evalue": "No module named 'src'",
     "output_type": "error",
     "traceback": [
      "\u001b[31m---------------------------------------------------------------------------\u001b[39m",
      "\u001b[31mModuleNotFoundError\u001b[39m                       Traceback (most recent call last)",
      "\u001b[36mCell\u001b[39m\u001b[36m \u001b[39m\u001b[32mIn[1]\u001b[39m\u001b[32m, line 2\u001b[39m\n\u001b[32m      1\u001b[39m \u001b[38;5;28;01mimport\u001b[39;00m\u001b[38;5;250m \u001b[39m\u001b[34;01mos\u001b[39;00m\n\u001b[32m----> \u001b[39m\u001b[32m2\u001b[39m \u001b[38;5;28;01mfrom\u001b[39;00m\u001b[38;5;250m \u001b[39m\u001b[34;01msrc\u001b[39;00m\u001b[34;01m.\u001b[39;00m\u001b[34;01mclasses\u001b[39;00m\u001b[34;01m.\u001b[39;00m\u001b[34;01mmongo_client\u001b[39;00m\u001b[38;5;250m \u001b[39m\u001b[38;5;28;01mimport\u001b[39;00m initialize\n\u001b[32m      4\u001b[39m \u001b[38;5;66;03m# Get MongoDB connection strings from environment variables\u001b[39;00m\n\u001b[32m      5\u001b[39m connection_strings = {\n\u001b[32m      6\u001b[39m     \u001b[33m\"\u001b[39m\u001b[33mstaging\u001b[39m\u001b[33m\"\u001b[39m: os.getenv(\u001b[33m\"\u001b[39m\u001b[33mMONGO_STAGE_URI\u001b[39m\u001b[33m\"\u001b[39m),\n\u001b[32m      7\u001b[39m     \u001b[33m\"\u001b[39m\u001b[33mproduction\u001b[39m\u001b[33m\"\u001b[39m: os.getenv(\u001b[33m\"\u001b[39m\u001b[33mMONGO_PROD_URI\u001b[39m\u001b[33m\"\u001b[39m)\n\u001b[32m      8\u001b[39m }\n",
      "\u001b[31mModuleNotFoundError\u001b[39m: No module named 'src'"
     ]
    }
   ],
   "source": [
    "import os\n",
    "from src.classes.mongo_client import initialize\n",
    "\n",
    "# Get MongoDB connection strings from environment variables\n",
    "connection_strings = {\n",
    "    \"staging\": os.getenv(\"MONGO_STAGE_URI\"),\n",
    "    \"production\": os.getenv(\"MONGO_PROD_URI\")\n",
    "}\n",
    "\n",
    "# Initialize database connections\n",
    "dbs = initialize(connection_strings)\n",
    "\n",
    "print(f\"Connected to {len(dbs)} databases:\")\n",
    "for db_name in dbs.keys():\n",
    "    print(f\"- {db_name}\")\n",
    "\n",
    "# Make connections available for use\n",
    "staging_db = dbs[\"staging\"]\n",
    "production_db = dbs[\"production\"]\n",
    "\n",
    "print(\"\\nDatabase connections initialized successfully!\")\n",
    "print(f\"Staging DB: {staging_db}\")\n",
    "print(f\"Production DB: {production_db}\")\n"
   ]
  },
  {
   "cell_type": "markdown",
   "metadata": {},
   "source": []
  },
  {
   "cell_type": "markdown",
   "metadata": {},
   "source": []
  }
 ],
 "metadata": {
  "kernelspec": {
   "display_name": "Python 3",
   "language": "python",
   "name": "python3"
  },
  "language_info": {
   "codemirror_mode": {
    "name": "ipython",
    "version": 3
   },
   "file_extension": ".py",
   "mimetype": "text/x-python",
   "name": "python",
   "nbconvert_exporter": "python",
   "pygments_lexer": "ipython3",
   "version": "3.12.10"
  }
 },
 "nbformat": 4,
 "nbformat_minor": 2
}
